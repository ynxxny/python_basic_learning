{
 "cells": [
  {
   "cell_type": "markdown",
   "metadata": {},
   "source": [
    "五、python面向对象\n",
    "在程序中组织数据\n",
    "1）使用对象组织数据\n",
    "    在程序中设计表格，我们称之为：设计类（class）\n",
    "        class Student：\n",
    "            name = None\n",
    "    在程序中打印生产表格，我们称之为：创建对象\n",
    "        stu_1 = Student()\n",
    "        Stu_2 = Student()\n",
    "    在程序中填写表格，我们称之为：对象属性赋值\n",
    "        stu_1.name = \"周杰伦\"\n",
    "        stu_2.name = \"林俊杰\"\n",
    "\n",
    "2）成员方法\n",
    "    类的定义与使用\n",
    "        class 类名称：\n",
    "            类的属性      #即定义在类中的变量（成员变量）\n",
    "            类的行为      #即定义在类中的函数（成员方法）\n",
    "\n",
    "        创建类对象的语法：\n",
    "            对象 = 类名称（）\n",
    "\n",
    "        在类中定义成员方法和定义函数基本一致，但仍有细微区别：\n",
    "            def 方法名（self，形参1，......，形参N）：   #其中self用来表示类对象本身的意思 当我们使用类对象调用方法时，self会自动被python传入，在方法内部\n",
    "                方法体                                    想要访问类的成员变量必须使用self\n",
    "        \n"
   ]
  },
  {
   "cell_type": "code",
   "execution_count": null,
   "metadata": {},
   "outputs": [],
   "source": [
    "class Student:\n",
    "    name = None\n",
    "\n",
    "    def say_hi(self):\n",
    "        print(f\"Hi大家好, 我是{self.name}\")\n",
    "\n",
    "# self关键字，在传参时可以忽略它"
   ]
  },
  {
   "cell_type": "markdown",
   "metadata": {},
   "source": [
    "    3）类和对象\n",
    "    现实事物分为属性和行为两个部分    而现实事物在程序中就等效于类描述\n",
    "    面向对象编程(*****):设计类，基于类创建对象，由对象做具体的工作\n",
    "\n",
    "    类：程序中的“设计图纸”\n",
    "    对象：基于图纸生产的具体实体\n",
    "\n",
    "    4）构造方法\n",
    "    Python类可以使用：__init__()方法，称之为构造方法\n",
    "    可以实现：\n",
    "        在创建类对象（构造类）的时候，会自动执行\n",
    "        在创建类对象（构造类）的时候，将传入参数自动传递给__init__\n"
   ]
  },
  {
   "cell_type": "code",
   "execution_count": 1,
   "metadata": {},
   "outputs": [],
   "source": [
    "class Student:\n",
    "    def __init__(self, name, age, tel):\n",
    "        self.name = name\n",
    "        self.age = age\n",
    "        self.tel = tel      #这一步既声明变量又给其赋值\n",
    "\n",
    "stu = Student(\"小红\", 31, 123456)"
   ]
  },
  {
   "cell_type": "markdown",
   "metadata": {},
   "source": [
    "    5）其他内置方法（魔术方法）\n",
    "        __str__字符串方法\n",
    "            class Student：\n",
    "                def __init__(self, name, age):\n",
    "                    self.name = name\n",
    "                    self.age = age\n",
    "\n",
    "            stu = Student(\"小红\"， 11)\n",
    "            print（student）\n",
    "            print（str（student））    # 当类对象需要被转换为字符串时 会输出内存地址\n",
    "\n",
    "            此时可以通过__str__方法，控制类转换为字符串的行为\n",
    "\n",
    "            在class中再加一个\n",
    "                def __str__(self):\n",
    "                    return f\"Student类对象, name{self.name}, age：{self.age}\"\n",
    "\n",
    "        __lt__ 小于符号比较方法\n",
    "            def __lt__(self, other):\n",
    "                return self.age<other.age\n",
    "            传入参数：other，另一个类对象\n",
    "            返回值：True或False\n",
    "            内容：自行定义\n",
    "\n",
    "        __le__ 可用于小于等于或者大于等于两种比较运算符上\n",
    "            逻辑同lr\n",
    "\n",
    "        __eq__ 比较运算符实现方法\n",
    "            def __eq__(self,other):\n",
    "                return self.age == other.age \n"
   ]
  },
  {
   "cell_type": "markdown",
   "metadata": {},
   "source": [
    "    6）封装\n",
    "    面向对象编程：基于模板(类)去创建实体(对象)，使用对象完成功能开发\n",
    "    面向对象三大主要特征：封装、继承、多态\n",
    "\n",
    "    封装：将现实世界事物在类中描述为属性和方法\n",
    "\n",
    "    私有成员包括私有变量和私有行为两部分\n",
    "        只需要在前面加两个下划线即可   如__name   \n",
    "        def __sayhello:\n",
    "    私有成员是为了应对现实事物中部分属性和方法不公开对使用者开放\n",
    "    但在类中描述属性和方法时需要用到，因此需要私有成员\n"
   ]
  },
  {
   "cell_type": "markdown",
   "metadata": {},
   "source": [
    "    7）继承\n",
    "    7.1）基础语法：在旧的东西基础上添加新的东西\n",
    "    继承表示：将从父类哪里继承（复制）来成员变量和成员方法(不含私有)\n",
    "\n",
    "    单继承：一个类继承另一个类\n",
    "    多继承：一个类继承多个类，按照顺序从左到右依次继承\n",
    "\n",
    "    多继承中如果父类有同名方法或属性，先继承的优先级高于后继承\n",
    "        \n",
    "        单继承语法：class 类名（父类名）：\n",
    "                      类内容体\n",
    "        多继承语法：class 类名1（父类1， 父类2，......, 父类N）：\n",
    "                      类内容体"
   ]
  },
  {
   "cell_type": "code",
   "execution_count": 9,
   "metadata": {},
   "outputs": [
    {
     "name": "stdout",
     "output_type": "stream",
     "text": [
      "2022最新5g通话\n"
     ]
    }
   ],
   "source": [
    "# 单继承\n",
    "class Phone:\n",
    "    IMEI = None\n",
    "    producer = None\n",
    "\n",
    "    def call_by_4g(self):\n",
    "        print(\"4g通话\")\n",
    "\n",
    "class Phone2022(Phone):\n",
    "    face_id = True\n",
    "\n",
    "    def call_by_5G(self):\n",
    "        print(\"2022最新5g通话\")\n",
    "\n",
    "x = Phone2022()\n",
    "x.call_by_5G()\n"
   ]
  },
  {
   "cell_type": "code",
   "execution_count": null,
   "metadata": {},
   "outputs": [],
   "source": [
    "#类定义\n",
    "class people:\n",
    "    #定义基本属性\n",
    "    name = ''\n",
    "    age = 0\n",
    "    #定义私有属性,私有属性在类外部无法直接进行访问\n",
    "    __weight = 0\n",
    "    #定义构造方法\n",
    "    def __init__(self,n,a,w):\n",
    "        self.name = n\n",
    "        self.age = a\n",
    "        self.__weight = w\n",
    "    def speak(self):\n",
    "        print(\"%s 说: 我 %d 岁。\" %(self.name,self.age))\n",
    " \n",
    "#单继承示例\n",
    "class student(people):\n",
    "    grade = ''\n",
    "    def __init__(self,n,a,w,g):\n",
    "        #调用父类的构函\n",
    "        people.__init__(self,n,a,w)\n",
    "        self.grade = g\n",
    "    #覆写父类的方法\n",
    "    def speak(self):\n",
    "        print(\"%s 说: 我 %d 岁了，我在读 %d 年级\"%(self.name,self.age,self.grade))\n",
    " \n",
    "s = student('ken',10,60,3)\n",
    "s.speak()"
   ]
  },
  {
   "cell_type": "code",
   "execution_count": null,
   "metadata": {},
   "outputs": [],
   "source": [
    "#类定义\n",
    "class people:\n",
    "    #定义基本属性\n",
    "    name = ''\n",
    "    age = 0\n",
    "    #定义私有属性,私有属性在类外部无法直接进行访问\n",
    "    __weight = 0\n",
    "    #定义构造方法\n",
    "    def __init__(self,n,a,w):\n",
    "        self.name = n\n",
    "        self.age = a\n",
    "        self.__weight = w\n",
    "    def speak(self):\n",
    "        print(\"%s 说: 我 %d 岁。\" %(self.name,self.age))\n",
    " \n",
    "#单继承示例\n",
    "class student(people):\n",
    "    grade = ''\n",
    "    def __init__(self,n,a,w,g):\n",
    "        #调用父类的构函\n",
    "        people.__init__(self,n,a,w)\n",
    "        self.grade = g\n",
    "    #覆写父类的方法\n",
    "    def speak(self):\n",
    "        print(\"%s 说: 我 %d 岁了，我在读 %d 年级\"%(self.name,self.age,self.grade))\n",
    " \n",
    "#另一个类，多继承之前的准备\n",
    "class speaker():\n",
    "    topic = ''\n",
    "    name = ''\n",
    "    def __init__(self,n,t):\n",
    "        self.name = n\n",
    "        self.topic = t\n",
    "    def speak(self):\n",
    "        print(\"我叫 %s，我是一个演说家，我演讲的主题是 %s\"%(self.name,self.topic))\n",
    " \n",
    "#多继承\n",
    "class sample(speaker,student):\n",
    "    a =''\n",
    "    def __init__(self,n,a,w,g,t):\n",
    "        student.__init__(self,n,a,w,g)\n",
    "        speaker.__init__(self,n,t)\n",
    " \n",
    "test = sample(\"Tim\",25,80,4,\"Python\")\n",
    "test.speak()   #方法名同，默认调用的是在括号中参数位置排前父类的方法"
   ]
  },
  {
   "cell_type": "markdown",
   "metadata": {},
   "source": [
    "    7.2）复写父类对象的语法\n",
    "    复写：子类继承父类的成员属性和成员方法后，如果对其不满意可以进行复写  复写即在子类中重新定义同名的属性或方法\n",
    "    7.3）调用父类同名成员\n",
    "    复写后若调用类的内容，调用到的复写之后的子类里的变量、方法   （若需要使用被复写的父类的成员，需要特殊的调用格式）\n",
    "        方式1：调用父类成员\n",
    "        使用成员变量：父类名.成员变量\n",
    "        使用成员方法：父类名.成员方法(self)\n",
    "        方式2：使用super()调用父类成员\n",
    "        使用成员变量：super().成员变量\n",
    "        使用成员方法：super().成员方法（）"
   ]
  },
  {
   "cell_type": "code",
   "execution_count": null,
   "metadata": {},
   "outputs": [],
   "source": [
    "class Phone:\n",
    "    IMEI = None\n",
    "    producer = \"CHN\"\n",
    "    def call_by_5g(self):\n",
    "        print(\"父类的5g通话\")\n",
    "\n",
    "class MyPhone(Phone):\n",
    "    producer = \"Yes\"\n",
    "    def call_by_5G(self):\n",
    "        print(\"子类的5g通话\")\n",
    "        # 方式1调用父类成员\n",
    "        print(f\"父类的品牌是：{Phone.producer}\")\n",
    "        Phone.call_by_5g(self)\n",
    "        # 方式2调用父类成员\n",
    "        print(f\"父类的品牌是：{super().producer}\")\n",
    "        super().call_by_5g()"
   ]
  },
  {
   "cell_type": "markdown",
   "metadata": {},
   "source": [
    "    8）多态   （多态常用于继承）\n",
    "    指多种状态，即完成某个行为时，使用不同的对象会得到不同的状态\n",
    "    同样的行为(函数)，传入不同的对象，得到不同的状态\n",
    "\n",
    "\n",
    "    抽象类（也可以称之为接口）：含有抽象方法的类称之为抽象类\n",
    "             抽象方法：方法体是空实现的(pass)称之为抽象方法\n",
    "        父类用来确定有哪些方法，具体的方法实现由子类自行决定\n",
    "        函数（方法）形参声明接收父类对象，实际传入父类的子类对象进行工作     #用以获得同一行为不同状态\n",
    "\n",
    "    配合多态完成：抽象的父类设计（设计标准）\n",
    "                 具体的子类实现（实现标准）\n"
   ]
  },
  {
   "cell_type": "code",
   "execution_count": 10,
   "metadata": {},
   "outputs": [
    {
     "name": "stdout",
     "output_type": "stream",
     "text": [
      "wangwangwang\n",
      "miaomiaomiao\n"
     ]
    }
   ],
   "source": [
    "# 抽象类实例\n",
    "class Animal:\n",
    "    def speak(self):\n",
    "        pass\n",
    "\n",
    "class Dog(Animal):\n",
    "    def speak(self):\n",
    "        print(\"wangwangwang\")\n",
    "\n",
    "class Cat(Animal):\n",
    "    def speak(self):\n",
    "        print(\"miaomiaomiao\")\n",
    "\n",
    "def make_noise(animal:Animal):    #括号里面是类型注解 表示animal是Animal类型的类\n",
    "    animal.speak()\n",
    "\n",
    "dog = Dog()\n",
    "cat = Cat()\n",
    "make_noise(dog)\n",
    "make_noise(cat)\n"
   ]
  },
  {
   "cell_type": "markdown",
   "metadata": {},
   "source": [
    "六、命名空间、作用域\n",
    "    命名空间\n",
    "    命名空间(Namespace)是从名称到对象的映射，大部分的命名空间都是通过 Python 字典来实现的。\n",
    "命名空间提供了在项目中避免名字冲突的一种方法。各个命名空间是独立的，没有任何关系的，所以一个命名空间中不能有重名，但不同的命名空间是可以重名而没有任何影响。 \n",
    "我们举一个计算机系统中的例子，一个文件夹(目录)中可以包含多个文件夹，每个文件夹中不能有相同的文件名，但不同文件夹中的文件可以重名。\n",
    "\n",
    "一般有三种命名空间：\n",
    "内置名称（built-in names）， Python 语言内置的名称，比如函数名 abs、char 和异常名称 BaseException、Exception 等等。\n",
    "全局名称（global names），模块中定义的名称，记录了模块的变量，包括函数、类、其它导入的模块、模块级的变量和常量。\n",
    "局部名称（local names），函数中定义的名称，记录了函数的变量，包括函数的参数和局部定义的变量。（类中定义的也是）\n",
    "\n",
    "命名空间查找顺序:\n",
    "假设我们要使用变量 runoob，则 Python 的查找顺序为：局部的命名空间 -> 全局命名空间 -> 内置命名空间。\n",
    "如果找不到变量 runoob，它将放弃查找并引发一个 NameError 异常:\n",
    "NameError: name 'runoob' is not defined。\n",
    "\n",
    "命名空间的生命周期：\n",
    "命名空间的生命周期取决于对象的作用域，如果对象执行完成，则该命名空间的生命周期就结束。\n",
    "\n",
    "因此，我们无法从外部命名空间访问内部命名空间的对象。"
   ]
  },
  {
   "cell_type": "code",
   "execution_count": null,
   "metadata": {},
   "outputs": [],
   "source": [
    "# var1 是全局名称\n",
    "var1 = 5\n",
    "def some_func():\n",
    " \n",
    "    # var2 是局部名称\n",
    "    var2 = 6\n",
    "    def some_inner_func():\n",
    " \n",
    "        # var3 是内嵌的局部名称\n",
    "        var3 = 7"
   ]
  },
  {
   "cell_type": "markdown",
   "metadata": {},
   "source": [
    "    作用域\n",
    "    作用域就是一个 Python 程序可以直接访问命名空间的正文区域。\n",
    "在一个 python 程序中，直接访问一个变量，会从内到外依次访问所有的作用域直到找到，否则会报未定义的错误。\n",
    "Python 中，程序的变量并不是在哪个位置都可以访问的，访问权限决定于这个变量是在哪里赋值的。\n",
    "变量的作用域决定了在哪一部分程序可以访问哪个特定的变量名称。Python 的作用域一共有4种，分别是：\n",
    "有四种作用域：\n",
    "L（Local）：最内层，包含局部变量，比如一个函数/方法内部。\n",
    "E（Enclosing）：包含了非局部(non-local)也非全局(non-global)的变量。比如两个嵌套函数，一个函数（或类） A 里面又包含了一个函数 B ，那么对于 B 中的名称来说 A 中的作用域就为 nonlocal。\n",
    "G（Global）：当前脚本的最外层，比如当前模块的全局变量。\n",
    "B（Built-in）： 包含了内建的变量/关键字等，最后被搜索。\n",
    "规则顺序： L –> E –> G –> B。\n",
    "在局部找不到，便会去局部外的局部找（例如闭包），再找不到就会去全局找"
   ]
  },
  {
   "cell_type": "code",
   "execution_count": null,
   "metadata": {},
   "outputs": [],
   "source": [
    "g_count = 0  # 全局作用域\n",
    "def outer():\n",
    "    o_count = 1  # 闭包函数外的函数中\n",
    "    def inner():\n",
    "        i_count = 2  # 局部作用域"
   ]
  },
  {
   "cell_type": "markdown",
   "metadata": {},
   "source": [
    "内置作用域是通过一个名为 builtin 的标准模块来实现的，但是这个变量名自身并没有放入内置作用域内，所以必须导入这个文件才能够使用它。在Python3.0中，可以使用以下的代码来查看到底预定义了哪些变量:\n",
    "import builtins\n",
    " dir(builtins)\n",
    "\n",
    "Python 中只有模块（module），类（class）以及函数（def、lambda）才会引入新的作用域，其它的代码块（如 if/elif/else/、try/except、for/while等）是不会引入新的作用域的，也就是说这些语句内定义的变量，外部也可以访问"
   ]
  },
  {
   "cell_type": "markdown",
   "metadata": {},
   "source": [
    "    全局变量和局部变量\n",
    "定义在函数内部的变量拥有一个局部作用域，定义在函数外的拥有全局作用域。\n",
    "局部变量只能在其被声明的函数内部访问，而全局变量可以在整个程序范围内访问。调用函数时，所有在函数内声明的变量名称都将被加入到作用域中。\n",
    "\n",
    "    global 和 nonlocal关键字\n",
    "当内部作用域想修改外部作用域的变量时，就要用到 global 和 nonlocal 关键字了。如果要修改嵌套作用域（enclosing 作用域，外层非全局作用域）中的变量则需要 nonlocal 关键字。\n"
   ]
  },
  {
   "cell_type": "code",
   "execution_count": 1,
   "metadata": {},
   "outputs": [
    {
     "name": "stdout",
     "output_type": "stream",
     "text": [
      "函数内是局部变量 :  30\n",
      "函数外是全局变量 :  0\n",
      "1\n",
      "123\n",
      "123\n",
      "100\n",
      "100\n"
     ]
    }
   ],
   "source": [
    "total = 0 # 这是一个全局变量\n",
    "# 可写函数说明\n",
    "def sum( arg1, arg2 ):\n",
    "    #返回2个参数的和.\"\n",
    "    total = arg1 + arg2 # total在这里是局部变量.\n",
    "    print (\"函数内是局部变量 : \", total)\n",
    "    return total\n",
    " \n",
    "#调用sum函数\n",
    "sum( 10, 20 )\n",
    "print (\"函数外是全局变量 : \", total)\n",
    "\n",
    "# global关键字在函数中修改全局变量\n",
    "num = 1\n",
    "def fun1():\n",
    "    global num  # 需要使用 global 关键字声明\n",
    "    print(num) \n",
    "    num = 123\n",
    "    print(num)\n",
    "fun1()\n",
    "print(num)\n",
    "\n",
    "# 修改嵌套作用域\n",
    "def outer():\n",
    "    num = 10\n",
    "    def inner():\n",
    "        nonlocal num   # nonlocal关键字声明\n",
    "        num = 100\n",
    "        print(num)\n",
    "    inner()\n",
    "    print(num)\n",
    "outer()"
   ]
  },
  {
   "cell_type": "code",
   "execution_count": 3,
   "metadata": {},
   "outputs": [
    {
     "name": "stdout",
     "output_type": "stream",
     "text": [
      "11\n"
     ]
    }
   ],
   "source": [
    "# 此段代码执行会报错 是因为a是局部变量 无法打印 函数调用结束后就消失了 因此需要加一个global关键字\n",
    "a = 10\n",
    "def test():\n",
    "  # global a\n",
    "    a = a + 1\n",
    "    print(a)\n",
    "test()"
   ]
  },
  {
   "cell_type": "markdown",
   "metadata": {},
   "source": [
    "七、生成器和迭代器\n",
    "迭代器\n",
    "迭代是 Python 最强大的功能之一，是访问集合元素的一种方式。\n",
    "迭代器是一个可以记住遍历的位置的对象。\n",
    "迭代器对象从集合的第一个元素开始访问，直到所有的元素被访问完结束。迭代器只能往前不会后退。\n",
    "迭代器有两个基本的方法：iter() 和 next()。\n",
    "字符串，列表或元组对象都可用于创建迭代器：  # 是因为这三种数据容器都是有序的  比如说无序的集合 以及特殊的需要用键来索引的字典就不可以"
   ]
  },
  {
   "cell_type": "code",
   "execution_count": null,
   "metadata": {},
   "outputs": [],
   "source": [
    "list=[1,2,3,4]\n",
    "it = iter(list)    # 创建迭代器对象\n",
    "print (next(it))   # 输出迭代器的下一个元素\n",
    "print (next(it))\n",
    "\n",
    "\n",
    "for x in it:\n",
    "    print (x, end=\" \")\n"
   ]
  },
  {
   "cell_type": "code",
   "execution_count": null,
   "metadata": {},
   "outputs": [],
   "source": [
    "# 使用next函数\n",
    "\n",
    "import sys         # 引入 sys 模块\n",
    " \n",
    "list=[1,2,3,4]\n",
    "it = iter(list)    # 创建迭代器对象\n",
    " \n",
    "while True:\n",
    "    try:\n",
    "        print (next(it))\n",
    "    except StopIteration:\n",
    "        sys.exit()"
   ]
  },
  {
   "cell_type": "markdown",
   "metadata": {},
   "source": [
    "创建一个迭代器\n",
    "把一个类作为一个迭代器使用需要在类中实现两个方法 __iter__() 与 __next__() 。\n",
    "如果你已经了解的面向对象编程，就知道类都有一个构造函数，Python 的构造函数为 __init__(), 它会在对象初始化的时候执行。\n",
    "__iter__() 方法返回一个特殊的迭代器对象， 这个迭代器对象实现了 __next__() 方法并通过 StopIteration 异常标识迭代的完成。\n",
    "__next__() 方法（Python 2 里是 next()）会返回下一个迭代器对象。\n",
    "创建一个返回数字的迭代器，初始值为 1，逐步递增 1："
   ]
  },
  {
   "cell_type": "code",
   "execution_count": 9,
   "metadata": {},
   "outputs": [
    {
     "name": "stdout",
     "output_type": "stream",
     "text": [
      "1\n",
      "2\n",
      "3\n"
     ]
    }
   ],
   "source": [
    "# 把一个类作为迭代器使用\n",
    "class Mynumbers:\n",
    "    def __iter__(self):\n",
    "        self.a = 1\n",
    "        return self\n",
    "    \n",
    "    def __next__(self):\n",
    "        x = self.a\n",
    "        self.a += 1\n",
    "        return x\n",
    "    \n",
    "myclass = Mynumbers()\n",
    "myiter = iter(myclass)\n",
    "\n",
    "print(next(myiter))\n",
    "print(next(myiter))\n",
    "print(next(myiter))"
   ]
  },
  {
   "cell_type": "markdown",
   "metadata": {},
   "source": [
    "StopIteration\n",
    "StopIteration 异常用于标识迭代的完成，防止出现无限循环的情况，在 __next__() 方法中我们可以设置在完成指定循环次数后触发 StopIteration 异常来结束迭代。"
   ]
  },
  {
   "cell_type": "code",
   "execution_count": 11,
   "metadata": {},
   "outputs": [
    {
     "name": "stdout",
     "output_type": "stream",
     "text": [
      "1\n",
      "2\n",
      "3\n",
      "4\n",
      "5\n",
      "6\n"
     ]
    }
   ],
   "source": [
    "class MyNumbers:\n",
    "  def __iter__(self):\n",
    "    self.a = 1\n",
    "    return self\n",
    " \n",
    "  def __next__(self):\n",
    "    if self.a <= 6:\n",
    "      x = self.a\n",
    "      self.a += 1\n",
    "      return x\n",
    "    else:\n",
    "      raise StopIteration\n",
    " \n",
    "myclass = MyNumbers()\n",
    "myiter = iter(myclass)\n",
    " \n",
    "for x in myiter:\n",
    "  print(x)"
   ]
  },
  {
   "cell_type": "markdown",
   "metadata": {},
   "source": [
    "生成器\n",
    "在 Python 中，使用了 yield 的函数被称为生成器（generator）。\n",
    "yield 是一个关键字，用于定义生成器函数，生成器函数是一种特殊的函数，可以在迭代过程中逐步产生值，而不是一次性返回所有结果。\n",
    "跟普通函数不同的是，生成器是一个返回迭代器的函数，只能用于迭代操作，更简单点理解生成器就是一个迭代器。\n",
    "当在生成器函数中使用 yield 语句时，函数的执行将会暂停，并将 yield 后面的表达式作为当前迭代的值返回。\n",
    "然后，每次调用生成器的 next() 方法或使用 for 循环进行迭代时，函数会从上次暂停的地方继续执行，直到再次遇到 yield 语句。这样，生成器函数可以逐步产生值，而不需要一次性计算并返回所有结果。\n",
    "调用一个生成器函数，返回的是一个迭代器对象。"
   ]
  },
  {
   "cell_type": "code",
   "execution_count": 12,
   "metadata": {},
   "outputs": [
    {
     "name": "stdout",
     "output_type": "stream",
     "text": [
      "5\n",
      "4\n",
      "3\n",
      "2\n",
      "1\n"
     ]
    }
   ],
   "source": [
    "def countdown(n):\n",
    "    while n > 0:\n",
    "        yield n\n",
    "        n -= 1\n",
    " \n",
    "# 创建生成器对象\n",
    "generator = countdown(5)\n",
    " \n",
    "# 通过迭代生成器获取值\n",
    "print(next(generator))  # 输出: 5\n",
    "print(next(generator))  # 输出: 4\n",
    "print(next(generator))  # 输出: 3\n",
    " \n",
    "# 使用 for 循环迭代生成器\n",
    "for value in generator:\n",
    "    print(value)  # 输出: 2 1\n",
    "\n",
    "# countdown 函数是一个生成器函数。它使用 yield 语句逐步产生从 n 到 1 的倒数数字。在每次调用 yield 语句时，\n",
    "# 函数会返回当前的倒数值，并在下一次调用时从上次暂停的地方继续执行。通过创建生成器对象并使用 next() 函数或 for \n",
    "# 循环迭代生成器，我们可以逐步获取生成器函数产生的值。在这个例子中，我们首先使用 next() 函数获取前三个倒数值，\n",
    "# 然后通过 for 循环获取剩下的两个倒数值。生成器函数的优势是它们可以按需生成值，避免一次性生成大量数据并占用大\n",
    "# 量内存。此外，生成器还可以与其他迭代工具（如for循环）无缝配合使用，提供简洁和高效的迭代方式。"
   ]
  }
 ],
 "metadata": {
  "kernelspec": {
   "display_name": "Python 3",
   "language": "python",
   "name": "python3"
  },
  "language_info": {
   "codemirror_mode": {
    "name": "ipython",
    "version": 3
   },
   "file_extension": ".py",
   "mimetype": "text/x-python",
   "name": "python",
   "nbconvert_exporter": "python",
   "pygments_lexer": "ipython3",
   "version": "3.10.9"
  }
 },
 "nbformat": 4,
 "nbformat_minor": 2
}
