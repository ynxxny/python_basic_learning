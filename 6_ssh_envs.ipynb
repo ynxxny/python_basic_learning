{
 "cells": [
  {
   "cell_type": "markdown",
   "metadata": {},
   "source": [
    "一．Powershell 连接远程服务器\n",
    "命令：ssh 用户名@地址 -p 端口号\n",
    "第一次登录需要输入用户名对应的密码\n",
    "\n",
    "为了方便不用每次登录都要输密码\n",
    "采用公私钥生成的方法"
   ]
  },
  {
   "cell_type": "code",
   "execution_count": null,
   "metadata": {
    "vscode": {
     "languageId": "plaintext"
    }
   },
   "outputs": [],
   "source": [
    "1.在windows端\n",
    "C:\\Users\\用户名\\.ssh 路径下\n",
    "命令行敲：ssh-keygen -t rsa  \n",
    "生成的id_rsa是私钥  id_rsa.pub为公钥  \n",
    "2.在windows端\n",
    "将生成的公钥上传到远端的linux服务器上\n",
    "ssh-copy-id 用户名@地址 -p 端口号\n",
    "(若这一句报错，则先在Powershell输入下列代码)"
   ]
  },
  {
   "cell_type": "code",
   "execution_count": null,
   "metadata": {
    "vscode": {
     "languageId": "plaintext"
    }
   },
   "outputs": [],
   "source": [
    "function ssh-copy-id([string]$userAtMachine, $args){   \n",
    "    $publicKey = \"$ENV:USERPROFILE\" + \"/.ssh/id_rsa.pub\"\n",
    "    if (!(Test-Path \"$publicKey\")){\n",
    "        Write-Error \"ERROR: failed to open ID file '$publicKey': No such file\"            \n",
    "    }\n",
    "    else {\n",
    "        & cat \"$publicKey\" | ssh $args $userAtMachine \"umask 077; test -d .ssh || mkdir .ssh ; cat >> .ssh/authorized_keys || exit 1\"      \n",
    "    }\n",
    "}\n",
    "#之后再重新输入ssh-copy-id 用户名@地址 -p 端口号"
   ]
  },
  {
   "cell_type": "markdown",
   "metadata": {},
   "source": [
    "3.修改C:\\Users\\用户名\\.ssh 路径下的config文件\n",
    "Host 自己起的名字(例如happy)\n",
    "    HostName 地址\n",
    "    User 用户名\n",
    "    Port 端口号\n",
    "    IdentityFile \"c:\\Users\\xxx\\.ssh\\id_rsa\"   #这一句是私钥地址\n",
    "\n",
    "之后即可通过ssh 用户名@happy  在powershell登录"
   ]
  },
  {
   "cell_type": "markdown",
   "metadata": {},
   "source": [
    "二．使用vscode连接远程服务器\n",
    "同理，区别在于\n",
    "1.需要先安装Remote-SSH插件\n",
    "2.之后点击加号，\n",
    "输入ssh 用户名@地址 -p 端口号 \n",
    "3.修改C:\\Users\\用户名\\.ssh 路径下的config文件\n",
    "Host 自己起的名字(例如happy)\n",
    "    HostName 地址\n",
    "    User 用户名\n",
    "    Port 端口号\n",
    "IdentityFile \"c:\\Users\\xxx\\.ssh\\id_rsa\"   #这一句是私钥地址\n"
   ]
  },
  {
   "cell_type": "markdown",
   "metadata": {},
   "source": [
    "三．配置环境"
   ]
  },
  {
   "cell_type": "code",
   "execution_count": null,
   "metadata": {
    "vscode": {
     "languageId": "plaintext"
    }
   },
   "outputs": [],
   "source": [
    "#1.下载miniconda3\n",
    "wget https://repo.anaconda.com/miniconda/Miniconda3-latest-Linux-x86_64.sh"
   ]
  },
  {
   "cell_type": "code",
   "execution_count": null,
   "metadata": {
    "vscode": {
     "languageId": "plaintext"
    }
   },
   "outputs": [],
   "source": [
    "#2.安装miniconda3\n",
    "sh ./Miniconda3-latest-Linux-x86_64.sh"
   ]
  },
  {
   "cell_type": "code",
   "execution_count": null,
   "metadata": {
    "vscode": {
     "languageId": "plaintext"
    }
   },
   "outputs": [],
   "source": [
    "#3.配置\n",
    "安装完成后 执行conda init --all 命令"
   ]
  },
  {
   "cell_type": "code",
   "execution_count": null,
   "metadata": {
    "vscode": {
     "languageId": "plaintext"
    }
   },
   "outputs": [],
   "source": [
    "#4.若提示conda not found\n",
    "vim ~/.bashrc\n",
    "#在文件最后一行加入下面句子\n",
    "export PATH=$PATH:/home/用户名/anaconda3/bin\n",
    "#保存后退出\n",
    "#输入 \n",
    "source ~/.bashrc\n",
    "#此时输入\n",
    "conda --version  即可以看到conda命令可以正确使用\n",
    "#然后执行\n",
    "conda init --all "
   ]
  },
  {
   "cell_type": "code",
   "execution_count": null,
   "metadata": {
    "vscode": {
     "languageId": "plaintext"
    }
   },
   "outputs": [],
   "source": [
    "#新建虚拟环境\n",
    "conda create -name smile python =3.9\n",
    "#查看虚拟环境列表\n",
    "conda env list\n",
    "#激活环境\n",
    "conda activate env_name\n",
    "#查看虚拟环境中的包\n",
    "conda list\n",
    "#删除虚拟环境\n",
    "#首先退出：\n",
    "conda deactivate env_name\n",
    "Conda remove -n env_name --all"
   ]
  }
 ],
 "metadata": {
  "language_info": {
   "name": "python"
  }
 },
 "nbformat": 4,
 "nbformat_minor": 2
}
