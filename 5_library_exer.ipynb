{
 "cells": [
  {
   "cell_type": "markdown",
   "metadata": {},
   "source": [
    "八、常见标准库\n",
    "Python 标准库非常庞大，所提供的组件涉及范围十分广泛，使用标准库我们可以让您轻松地完成各种任务。\n",
    "\n",
    "以下是一些 Python3 标准库中的模块：\n",
    "os 模块：os 模块提供了许多与操作系统交互的函数，例如创建、移动和删除文件和目录，以及访问环境变量等。\n",
    "sys 模块：sys 模块提供了与 Python 解释器和系统相关的功能，例如解释器的版本和路径，以及与 stdin、stdout 和 stderr 相关的信息。\n",
    "time 模块：time 模块提供了处理时间的函数，例如获取当前时间、格式化日期和时间、计时等。\n",
    "datetime 模块：datetime 模块提供了更高级的日期和时间处理函数，例如处理时区、计算时间差、计算日期差等。\n",
    "random 模块：random 模块提供了生成随机数的函数，例如生成随机整数、浮点数、序列等。\n",
    "math 模块：math 模块提供了数学函数，例如三角函数、对数函数、指数函数、常数等。\n",
    "re 模块：re 模块提供了正则表达式处理函数，可以用于文本搜索、替换、分割等。\n",
    "json 模块：json 模块提供了 JSON 编码和解码函数，可以将 Python 对象转换为 JSON 格式，并从 JSON 格式中解析出 Python 对象。\n",
    "urllib 模块：urllib 模块提供了访问网页和处理 URL 的功能，包括下载文件、发送 POST 请求、处理 cookies 等。\n",
    "\n",
    "# 在这里不详细描述了 什么时候用到什么再去查吧\n"
   ]
  },
  {
   "cell_type": "markdown",
   "metadata": {},
   "source": [
    "九、python小练习\n",
    "光说不练假把式 下面就通过一些小例子来复习一下前面看过的知识点"
   ]
  },
  {
   "cell_type": "code",
   "execution_count": null,
   "metadata": {},
   "outputs": [],
   "source": [
    "# 交换变量\n",
    "x = 1\n",
    "# y = input(\"请输入y的值:\")\n",
    "y = 2\n",
    "x, y = y ,x\n",
    "print(f\"交换以后x的值为:{x}\")\n",
    "print(f\"交换以后y的值为:{y}\")\n",
    "\n",
    "# 使用for循环生成九九乘法表\n",
    "for i in range(1, 10):\n",
    "    for j in range(1, i+1):\n",
    "        print(f\"{i}*{j} = {i* j}\", end=\" \")\n",
    "    print(\"\\n\")\n",
    "\n",
    "# 在这里其实实现的不够好看 但是不拘泥于格式就这样吧先"
   ]
  },
  {
   "cell_type": "code",
   "execution_count": 11,
   "metadata": {},
   "outputs": [
    {
     "name": "stdout",
     "output_type": "stream",
     "text": [
      "请选择您的运算：\n",
      "1.相加\n",
      "2.相减\n",
      "3.相乘\n",
      "4.相除\n",
      "1 - 2 = -1\n"
     ]
    }
   ],
   "source": [
    "# 简易计算器实现\n",
    "def myadd(x, y):\n",
    "    return x + y\n",
    "\n",
    "def mysub(x, y):\n",
    "    return x - y\n",
    "\n",
    "def mymulti(x, y):\n",
    "    return x * y\n",
    "\n",
    "def mydivi(x, y):\n",
    "    return x / y\n",
    "\n",
    "# 用户输入\n",
    "print(\"请选择您的运算：\")\n",
    "print(\"1.相加\")\n",
    "print(\"2.相减\")\n",
    "print(\"3.相乘\")\n",
    "print(\"4.相除\")\n",
    "\n",
    "choice = input(\"请输入您想选择的运算1/2/3/4:\")\n",
    "\n",
    "num1 = int(input(\"输入第一个数字: \"))\n",
    "num2 = int(input(\"输入第二个数字: \"))\n",
    " \n",
    "if choice == '1':\n",
    "   print(num1,\"+\",num2,\"=\", myadd(num1,num2))\n",
    " \n",
    "elif choice == '2':\n",
    "   print(num1,\"-\",num2,\"=\", mysub(num1,num2))\n",
    " \n",
    "elif choice == '3':\n",
    "   print(num1,\"*\",num2,\"=\", mymulti(num1,num2))\n",
    " \n",
    "elif choice == '4':\n",
    "   print(num1,\"/\",num2,\"=\", mydivi(num1,num2))\n",
    "else:\n",
    "   print(\"非法输入\")\n",
    "     "
   ]
  },
  {
   "cell_type": "markdown",
   "metadata": {},
   "source": [
    "python的基础练习后面再写 这里就先到这为止\n",
    "如果后面有时间 希望我可以写一个进阶版的 \n",
    "祝我们大家各自拥有美好的人生"
   ]
  }
 ],
 "metadata": {
  "kernelspec": {
   "display_name": "Python 3",
   "language": "python",
   "name": "python3"
  },
  "language_info": {
   "name": "python",
   "version": "3.10.9"
  }
 },
 "nbformat": 4,
 "nbformat_minor": 2
}
