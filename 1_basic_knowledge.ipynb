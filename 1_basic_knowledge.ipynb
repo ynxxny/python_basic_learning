{
 "cells": [
  {
   "cell_type": "markdown",
   "metadata": {},
   "source": [
    "python学习从我做起（python基础入门）"
   ]
  },
  {
   "cell_type": "markdown",
   "metadata": {},
   "source": [
    "一、python最基础知识\n",
    "1.python3源码文件默认为UTF-8编码 所有的字符串都是unicode字符串\n",
    "2.python标识符：1）第一个字符必须是字母或者下划线 2）标识符其他部分由字母、数字、下划线组成 3）对大小写敏感\n",
    "3.python关键字：不能用作任何标识符名称  关键字列表可以由如下python标准库得到\n",
    "4.python注释：1）单行注释以#开头 2）多行注释可以用多个#号 还可以用\"\"\" 或者'''"
   ]
  },
  {
   "cell_type": "code",
   "execution_count": null,
   "metadata": {},
   "outputs": [],
   "source": [
    "import keyword     #关键字列表获取方式\n",
    "keyword.kwlist\n",
    "\n",
    "# 我是一个单行注释\n",
    "\"\"\"\n",
    "花\n",
    "叶子\n",
    "果实\n",
    "我是多行注释\n",
    "\"\"\"\n",
    "'''\n",
    "你\n",
    "我\n",
    "她\n",
    "我也是多行注释\n",
    "'''"
   ]
  },
  {
   "cell_type": "markdown",
   "metadata": {},
   "source": [
    "5.行与缩进：使用缩进来表示代码块，而不使用大括号，若同一个代码块缩进空格数不同会出现报错\n",
    "6.python中若要使用多行语句可以使用反斜杠\\来实现多行语句，但是在[]、{}、()中的多行语句不需要使用反斜杠\n",
    "7.数字类型：1）int(整数) 2）bool(布尔):True 3）float(浮点数):1.23 3E-2 4）complex(复数):1+2j\n",
    "8.空行在python代码中起分割作用 是代码的一部分\n",
    "9.若同一行想用多条语句，用;分割\n",
    "10.input()等待用户输入、print()输出默认输出换行，若需要不换行则末尾需要加end=\"\""
   ]
  },
  {
   "cell_type": "code",
   "execution_count": 2,
   "metadata": {},
   "outputs": [
    {
     "name": "stdout",
     "output_type": "stream",
     "text": [
      "happy\n",
      "every\n",
      "happyevery\n"
     ]
    }
   ],
   "source": [
    "# input(\"\\n\\n按下enter键后退出\")\n",
    "# 默认换行\n",
    "print(\"happy\")\n",
    "print(\"every\")\n",
    "\n",
    "# 不换行\n",
    "print(\"happy\",end=\"\")\n",
    "print(\"every\")"
   ]
  },
  {
   "cell_type": "markdown",
   "metadata": {},
   "source": [
    "12.模块导入：使用import和 from...import...\n",
    "1）将整个模块(somemodule)导入，格式为： import somemodule\n",
    "2）从某个模块中导入某个函数,格式为： from somemodule import somefunction\n",
    "3）从某个模块中导入多个函数,格式为： from somemodule import firstfunc, secondfunc, thirdfunc\n",
    "4）将某个模块中的全部函数导入，格式为： from somemodule import *"
   ]
  },
  {
   "cell_type": "code",
   "execution_count": 3,
   "metadata": {},
   "outputs": [],
   "source": [
    "import sys\n",
    "from sys import argv, path\n",
    "from sys import *"
   ]
  },
  {
   "cell_type": "markdown",
   "metadata": {},
   "source": [
    "二、python基本数据类型\n",
    "python中的变量不需要声明，每个变量在使用前都必须赋值，变量赋值以后才会被创建\n",
    "而变量是没有类型的，所谓的类型实际上是变量中所存对象的类型\n",
    "counter = 100      \n",
    "多个变量赋值 a, b, c = 1, 2, \"happy\""
   ]
  },
  {
   "cell_type": "markdown",
   "metadata": {},
   "source": [
    "Python3 中常见的数据类型有：\n",
    "\n",
    "Number（数字）\n",
    "String（字符串）\n",
    "bool（布尔类型）\n",
    "List（列表）\n",
    "Tuple（元组）\n",
    "Set（集合）\n",
    "Dictionary（字典）\n",
    "Python3 的六个标准数据类型中：\n",
    "\n",
    "不可变数据（3 个）：Number（数字）、String（字符串）、Tuple（元组）；\n",
    "可变数据（3 个）：List（列表）、Dictionary（字典）、Set（集合）。"
   ]
  },
  {
   "cell_type": "markdown",
   "metadata": {},
   "source": [
    "1.Number（数字）\n",
    "\n",
    "Python3 支持 int、float、bool、complex（复数）。\n",
    "在Python 3里，只有一种整数类型 int，表示为长整型，没有 python2 中的 Long。\n",
    "像大多数语言一样，数值类型的赋值和计算都是很直观的。\n",
    "内置的 type() 函数可以用来查询变量所指的对象类型。\n",
    "\n",
    "注意：\n",
    "1）Python3 中，bool 是 int 的子类，True 和 False 可以和数字相加， True==1、False==0 会返回 True，但可以通过 is 来判断类型。\n",
    "2）当你指定一个值时，Number 对象就会被创建，可以使用del语句删除一些对象引用\n",
    "3）在混合计算时，Python会把整型转换成为浮点数,数值的除法包含两个运算符：/ 返回一个浮点数，// 返回一个整数。\n",
    "\n",
    "abs():取绝对值\n",
    "ceil():向上取整\n",
    "floor():向下取整\n",
    "max(x1,x2,...):返回给定参数的最大值，参数可以为序列。\n",
    "min(x1,x2,...):返回给定参数的最小值，参数可以为序列。\n",
    "random():随机生成下一个实数，它在[0,1)范围内。"
   ]
  },
  {
   "cell_type": "code",
   "execution_count": 4,
   "metadata": {},
   "outputs": [
    {
     "name": "stdout",
     "output_type": "stream",
     "text": [
      "6\n",
      "-2\n",
      "8\n",
      "0.5\n",
      "0\n",
      "2\n",
      "16\n"
     ]
    }
   ],
   "source": [
    "a, b = 2, 4\n",
    "print(a + b)\n",
    "print(a - b)\n",
    "print(a * b)\n",
    "print(a / b)\n",
    "print(a // b)\n",
    "print(a % b)\n",
    "print(a ** b)"
   ]
  },
  {
   "cell_type": "markdown",
   "metadata": {},
   "source": [
    "2.String(字符串)\n",
    "python中单双信号使用完全相同，可以使用三引号（'''或\"\"\"）指定一个多行字符串\n",
    " 1）转义符\\, 使用r可以让反斜杠不产生转义     \"/n\"(换行符)\n",
    " 2）字符串可以用 + 运算符连接在一起，用 * 运算符重复。\n",
    " 3）Python 中的字符串有两种索引方式，从左往右以 0 开始，从右往左以 -1 开始。\n",
    " 4）Python 中的字符串不能改变。\n",
    " 5）Python 没有单独的字符类型，一个字符就是长度为 1 的字符串。\n",
    " 6）字符串的截取的语法格式如下：变量[头下标:尾下标:步长]  （不包含尾下标）\n",
    " 7）f-string 格式化字符串以 f 开头，后面跟着字符串，字符串中的表达式用大括号 {} 包起来，它会将变量或表达式计算后的值替换进去\n"
   ]
  },
  {
   "cell_type": "code",
   "execution_count": 12,
   "metadata": {},
   "outputs": [
    {
     "name": "stdout",
     "output_type": "stream",
     "text": [
      "123456789\n",
      "12345678\n",
      "1\n",
      "345\n",
      "3456789\n",
      "24\n",
      "123456789123456789\n",
      "123456789你好\n",
      "------------------------------\n",
      "hello\n",
      "runoob\n",
      "hello\\nrunoob\n",
      "这是我写的字符串：123456789\n"
     ]
    }
   ],
   "source": [
    "str = '123456789'\n",
    "str1 = \"\"\"我是一个\n",
    "多行字符串\"\"\"\n",
    "str2 = '''我也是\n",
    "多行字符串'''\n",
    " \n",
    "print(str)                 # 输出字符串\n",
    "print(str[0:-1])           # 输出第一个到倒数第二个的所有字符\n",
    "print(str[0])              # 输出字符串第一个字符\n",
    "print(str[2:5])            # 输出从第三个开始到第六个的字符（不包含）\n",
    "print(str[2:])             # 输出从第三个开始后的所有字符\n",
    "print(str[1:5:2])          # 输出从第二个开始到第五个且每隔一个的字符（步长为2）\n",
    "print(str * 2)             # 输出字符串两次\n",
    "print(str + '你好')         # 连接字符串\n",
    " \n",
    "print('------------------------------')\n",
    " \n",
    "print('hello\\nrunoob')      # 使用反斜杠(\\)+n转义特殊字符\n",
    "print(r'hello\\nrunoob')     # 在字符串前面添加一个 r，表示原始字符串，不会发生转义\n",
    "print(f\"这是我写的字符串：{str}\")   # f-string 格式化字符串"
   ]
  },
  {
   "cell_type": "markdown",
   "metadata": {},
   "source": [
    "字符串的常见操作：\n",
    "1）字符串.index(字符串)  找到其起始位置的下标索引\n",
    "2）字符串.place(字符串1, 字符串2)  用字符串2代替字符串1\n",
    "3）字符串.split(分隔符字符串)   按照分隔符字符串分割原来的字符串\n",
    "4）字符串.strip()    去前后空格\n",
    "5）字符串.count(字符)    统计字符串中某字符串出现的次数\n",
    "6）len(字符串) 统计字符串长度\n",
    "7）find(str, beg=0, end=len(string))\n",
    "检测 str 是否包含在字符串中，如果指定范围 beg 和 end ，则检查是否包含在指定范围内，如果包含返回开始的索引值，否则返回-1\n",
    "8）join(seq)\n",
    "以指定字符串作为分隔符，将 seq 中所有的元素(的字符串表示)合并为一个新的字符串"
   ]
  },
  {
   "cell_type": "code",
   "execution_count": 20,
   "metadata": {},
   "outputs": [
    {
     "name": "stdout",
     "output_type": "stream",
     "text": [
      "2\n",
      "ioamoonomyowayoeeee\n",
      "['i am ', 'n my way eeee']\n",
      "i am on my way eeee\n"
     ]
    }
   ],
   "source": [
    "str = \"i am on my way eeee\"\n",
    "print(str.index(\"a\"))\n",
    "print(str.replace(\" \",\"o\"))\n",
    "print(str.split(\"o\"))\n",
    "print(str)\n"
   ]
  },
  {
   "cell_type": "markdown",
   "metadata": {},
   "source": [
    "3.Bool(布尔类型)\n",
    "特点:\n",
    "1）布尔类型只有两个值：True 和 False。\n",
    "2）布尔类型可以和其他数据类型进行比较，比如数字、字符串等。在比较时，Python 会将 True 视为 1，False 视为 0。\n",
    "3）布尔类型可以和逻辑运算符一起使用，包括 and、or 和 not。这些运算符可以用来组合多个布尔表达式，生成一个新的布尔值。\n",
    "4）布尔类型也可以被转换成其他数据类型，比如整数、浮点数和字符串。在转换时，True 会被转换成 1，False 会被转换成 0。\n",
    "注意：\n",
    " 在 Python 中，所有非零的数字和非空的字符串、列表、元组等数据类型都被视为 True，只有 0、空字符串、空列表、空元组等被视为 False。因此，在进行布尔类型转换时，需要注意数据类型的真假性。"
   ]
  },
  {
   "cell_type": "code",
   "execution_count": 5,
   "metadata": {},
   "outputs": [
    {
     "name": "stdout",
     "output_type": "stream",
     "text": [
      "True\n",
      "False\n",
      "False\n",
      "True\n",
      "False\n",
      "1\n",
      "0.0\n"
     ]
    }
   ],
   "source": [
    "a = True\n",
    "b = False\n",
    "\n",
    "# 比较运算符\n",
    "print(2 < 3)   # True\n",
    "print(2 == 3)  # False\n",
    "\n",
    "# 逻辑运算符\n",
    "print(a and b)  # False\n",
    "print(a or b)   # True\n",
    "print(not a)    # False\n",
    "\n",
    "# 类型转换\n",
    "print(int(a))   # 1\n",
    "print(float(b)) # 0.0\n",
    "#str() 把变量转换成字符串类型"
   ]
  },
  {
   "cell_type": "markdown",
   "metadata": {},
   "source": [
    "4.List（列表） \n",
    "是 Python 中使用最频繁的数据类型。\n",
    "列表可以完成大多数集合类的数据结构实现。列表中元素的类型可以不相同，它支持数字，字符串甚至可以包含列表（所谓嵌套）。\n",
    "列表是写在方括号 [] 之间、用逗号分隔开的元素列表。\n",
    "和字符串一样，列表同样可以被索引和截取，列表被截取后返回一个包含所需元素的新列表，列表的索引从左往右以 0 开始，从右往左以 -1 开始。\n",
    "注意：\n",
    "1）List写在方括号之间，元素用逗号隔开。\n",
    "2）和字符串一样，list可以被索引和切片。\n",
    "3）List可以使用+操作符进行拼接。\n",
    "4）List中的元素是可以改变的！！！"
   ]
  },
  {
   "cell_type": "code",
   "execution_count": 1,
   "metadata": {},
   "outputs": [
    {
     "name": "stdout",
     "output_type": "stream",
     "text": [
      "['abcd', 786, 2.23, 'runoob', 70.2]\n",
      "abcd\n",
      "[786, 2.23]\n",
      "[2.23, 'runoob', 70.2]\n",
      "[123, 'runoob', 123, 'runoob']\n",
      "['abcd', 786, 2.23, 'runoob', 70.2, 123, 'runoob']\n",
      "['abcd', 2.23, 70.2]\n",
      "['abcd', 786, 70.2]\n",
      "修改后的列表为[786, 70.2]\n"
     ]
    }
   ],
   "source": [
    "list = [ 'abcd', 786 , 2.23, 'runoob', 70.2 ]\n",
    "tinylist = [123, 'runoob']\n",
    "mylist = [123, 345, 456, list]   # 列表的嵌套\n",
    "\n",
    "print (list)            # 输出完整列表\n",
    "print (list[0])         # 输出列表第一个元素\n",
    "print (list[1:3])       # 从第二个开始输出到第三个元素\n",
    "print (list[2:])        # 输出从第三个元素开始的所有元素\n",
    "print (tinylist * 2)    # 输出两次列表\n",
    "print (list + tinylist) # 连接列表\n",
    "# 按规定步长取列表元素    第三个参数表示步长 若第三个参数为负数表示逆向取元素\n",
    "newlist = list[0: 5: 2]\n",
    "print(newlist)\n",
    "# 列表中的元素是可以被改变的\n",
    "list[2: 4] = []\n",
    "print(list)\n",
    "del list[0]    # 删除列表元素\n",
    "print(f\"修改后的列表为{list}\")\n"
   ]
  },
  {
   "cell_type": "code",
   "execution_count": 7,
   "metadata": {},
   "outputs": [
    {
     "name": "stdout",
     "output_type": "stream",
     "text": [
      "you love i\n"
     ]
    }
   ],
   "source": [
    "# 翻转字符串例子\n",
    "def reserveWords(input):\n",
    "    # 使用空格将字符串分隔成列表\n",
    "    inputWords = input.split(\" \")\n",
    "    # 第一个-1表示从列表末尾第一个元素起，第二个-1表示倒序\n",
    "    inputWords = inputWords[-1::-1]\n",
    "    # 使用空格重新组合字符串\n",
    "    output = ' '.join(inputWords)\n",
    "\n",
    "    return output\n",
    "\n",
    "if __name__ == \"__main__\":\n",
    "    input = \"i love you\"\n",
    "    rw = reserveWords(input)\n",
    "    print(rw)\n",
    "\n"
   ]
  },
  {
   "cell_type": "markdown",
   "metadata": {},
   "source": [
    "列表的常用操作\n",
    "len(list)  max(list) min(list) list(seq):将元组转换成列表\n",
    "1)   list.append(obj)\n",
    "在列表末尾添加新的对象\n",
    "2)\tlist.count(obj)\n",
    "统计某个元素在列表中出现的次数\n",
    "3)\tlist.extend(seq)\n",
    "在列表末尾一次性追加另一个序列中的多个值（用新列表扩展原来的列表）\n",
    "4)\tlist.index(obj)\n",
    "从列表中找出某个值第一个匹配项的索引位置\n",
    "5)\tlist.insert(index, obj)\n",
    "将对象插入列表\n",
    "6)\tlist.pop([index=-1])\n",
    "移除列表中的一个元素（默认最后一个元素），并且返回该元素的值\n",
    "7)\tlist.remove(obj)\n",
    "移除列表中某个值的第一个匹配项\n",
    "8)\tlist.reverse()\n",
    "反向列表中元素\n",
    "9)\tlist.sort( key=None, reverse=False)\n",
    "对原列表进行排序\n",
    "10)\tlist.clear()\n",
    "清空列表\n",
    "11)\tlist.copy()\n",
    "复制列表\n"
   ]
  },
  {
   "cell_type": "markdown",
   "metadata": {},
   "source": [
    "5.Tuple（元组）\n",
    "元组（tuple）与列表类似，不同之处在于元组的元素不能修改。元组写在小括号 () 里，元素之间用逗号隔开。\n",
    "元组中的元素类型也可以不相同：\n",
    "元组与字符串类似，可以被索引且下标索引从0开始，-1 为从末尾开始的位置。也可以进行截取（看上面，这里不再赘述）。\n",
    "其实，可以把字符串看作一种特殊的元组。\n",
    "虽然tuple的元素不可改变，但它可以包含可变的对象，比如list列表!!!\n",
    "注意：\n",
    "1、与字符串一样，元组的元素不能修改。\n",
    "2、元组也可以被索引和切片，方法一样。\n",
    "3、注意构造包含 0 或 1 个元素的元组的特殊语法规则。\n",
    "4、元组也可以使用+操作符进行拼接。\n"
   ]
  },
  {
   "cell_type": "code",
   "execution_count": 8,
   "metadata": {},
   "outputs": [
    {
     "name": "stdout",
     "output_type": "stream",
     "text": [
      "('abcd', 786, 2.23, 'runoob', 70.2)\n",
      "abcd\n",
      "(786, 2.23)\n",
      "(2.23, 'runoob', 70.2)\n",
      "(123, 'runoob', 123, 'runoob')\n",
      "('abcd', 786, 2.23, 'runoob', 70.2, 123, 'runoob')\n"
     ]
    }
   ],
   "source": [
    "tuple = ( 'abcd', 786 , 2.23, 'runoob', 70.2  )\n",
    "tinytuple = (123, 'runoob')\n",
    "\n",
    "print (tuple)             # 输出完整元组\n",
    "print (tuple[0])          # 输出元组的第一个元素\n",
    "print (tuple[1:3])        # 输出从第二个元素开始到第三个元素\n",
    "print (tuple[2:])         # 输出从第三个元素开始的所有元素\n",
    "print (tinytuple * 2)     # 输出两次元组\n",
    "print (tuple + tinytuple) # 连接元组\n",
    "\n",
    "# 注意构造包含 0 或 1 个元素的元组的特殊语法规则。\n",
    "tup1 = ()    # 空元组\n",
    "tup2 = (20,) # 一个元素，需要在元素后添加逗号"
   ]
  },
  {
   "cell_type": "markdown",
   "metadata": {},
   "source": [
    "元组的常用操作\n",
    "1）访问元组\n",
    "元组可以使用下标索引来访问元组中的值\n",
    "2）修改元组\n",
    "元组中的元素值是不允许修改的，但我们可以对元组进行连接组合\n",
    "3）删除元组\n",
    "元组中的元素值是不允许删除的，但我们可以使用del语句来删除整个元组\n",
    "4）元组运算符\n",
    "与字符串一样，元组之间可以使用 +、+=和 * 号进行运算。这就意味着他们可以组合和复制，运算后会生成一个新的元组。\n",
    "5）元组索引，截取\n",
    "因为元组也是一个序列，所以我们可以访问元组中的指定位置的元素，也可以截取索引中的一段元素\n",
    "\n",
    "所谓元组的不可变指的是元组所指向的内存中的内容不可变！！！"
   ]
  },
  {
   "cell_type": "markdown",
   "metadata": {},
   "source": [
    "6.Set（集合）\n",
    "Python 中的集合（Set）是一种无序、可变的数据类型，用于存储唯一的元素。\n",
    "集合中的元素不会重复，并且可以进行交集、并集、差集等常见的集合操作。\n",
    "在 Python 中，集合使用大括号 {} 表示，元素之间用逗号 , 分隔。\n",
    "另外，也可以使用 set() 函数创建集合。\n",
    "注意：创建一个空集合必须用 set() 而不是 { }，因为 { } 是用来创建一个空字典。"
   ]
  },
  {
   "cell_type": "code",
   "execution_count": 9,
   "metadata": {},
   "outputs": [
    {
     "name": "stdout",
     "output_type": "stream",
     "text": [
      "{'d', 'c', 'b', 'r', 'a'}\n",
      "{'d', 'b', 'r'}\n",
      "{'d', 'c', 'b', 'r', 'a', 'l', 'm', 'z'}\n",
      "{'a', 'c'}\n",
      "{'l', 'd', 'm', 'z', 'b', 'r'}\n"
     ]
    }
   ],
   "source": [
    "set1 = {\"happy\", \"every\", \"day\", \"sun\", \"moon\"}\n",
    "set2 = {\"happy\", \"river\", 123}\n",
    "set3 = set()\n",
    "# set可以进行集合运算\n",
    "a = set('abracadabra')\n",
    "b = set('alacazam')\n",
    "\n",
    "print(a)\n",
    "print(a - b)     # a 和 b 的差集\n",
    "print(a | b)     # a 和 b 的并集\n",
    "print(a & b)     # a 和 b 的交集\n",
    "print(a ^ b)     # a 和 b 中不同时存在的元素"
   ]
  },
  {
   "cell_type": "markdown",
   "metadata": {},
   "source": [
    "集合的基本操作\n",
    "1）添加元素\n",
    "语法格式如下：s.add( x )   将元素 x 添加到集合 s 中，如果元素已存在，则不进行任何操作。\n",
    "s.update( x )    参数可以是列表，元组，字典等\n",
    "2）移除元素\n",
    "语法格式如下：s.remove( x )  将元素 x 从集合 s 中移除，如果元素不存在，则会发生错误。\n",
    "此外还有一个方法也是移除集合中的元素，且如果元素不存在，不会发生错误。格式如下所示：s.discard( x )\n",
    "随机删除集合中的一个元素，语法格式如下：s.pop() \n",
    "3）s.clear()  清空集合\n",
    "4）取出两个集合的差集\n",
    "set3 = set1.difference(set2)\n",
    "5）2个集合合并为1个\n",
    "set3 = set1.union(set2)"
   ]
  },
  {
   "cell_type": "markdown",
   "metadata": {},
   "source": [
    "7.Dictionary（字典）\n",
    "字典（dictionary）是Python中另一个非常有用的内置数据类型。\n",
    "列表是有序的对象集合，字典是无序的对象集合。两者之间的区别在于：字典当中的元素是通过键来存取的，而不是通过偏移存取。\n",
    "字典是一种映射类型，字典用 { } 标识，它是一个无序的 键(key) : 值(value) 的集合。\n",
    "键(key)必须使用不可变类型。\n",
    "在同一个字典中，键(key)必须是唯一的。\n",
    "8.bytes 类型\n",
    "在 Python3 中，bytes 类型表示的是不可变的二进制序列（byte sequence）。\n",
    "与字符串类型不同的是，bytes 类型中的元素是整数值（0 到 255 之间的整数），而不是 Unicode 字符。\n",
    "bytes 类型通常用于处理二进制数据，比如图像文件、音频文件、视频文件等等。在网络编程中，也经常使用 bytes 类型来传输二进制数据。\n",
    "创建 bytes 对象的方式有多种，最常见的方式是使用 b 前缀：\n",
    "此外，也可以使用 bytes() 函数将其他类型的对象转换为 bytes 类型。bytes() 函数的第一个参数是要转换的对象，第二个参数是编码方式，如果省略第二个参数，则默认使用 UTF-8 编码："
   ]
  },
  {
   "cell_type": "code",
   "execution_count": 10,
   "metadata": {},
   "outputs": [
    {
     "name": "stdout",
     "output_type": "stream",
     "text": [
      "flower\n",
      "sun\n",
      "{'name': 'dog', 'sex': 'girl', 'mood': 'happy'}\n",
      "dict_values(['dog', 'girl', 'happy'])\n",
      "dict_keys(['name', 'sex', 'mood'])\n"
     ]
    }
   ],
   "source": [
    "dict = {}\n",
    "dict[\"wow\"] = \"flower\"\n",
    "dict[2] = \"sun\"\n",
    "\n",
    "mydict = {\"name\": \"dog\", \"sex\": \"girl\", \"mood\": \"happy\"}\n",
    "\n",
    "print(dict[\"wow\"])\n",
    "print(dict[2])\n",
    "print(mydict)\n",
    "print(mydict.values())   # 获得字典中全部的value\n",
    "print(mydict.keys())     #获得字典中全部的key\n",
    "\n",
    "x = bytes(\"hello\", encoding=\"utf-8\")\n",
    "\n",
    "x = b\"hello\"\n",
    "y = x[1:3]  # 切片操作，得到 b\"el\"\n",
    "z = x + b\"world\"  # 拼接操作，得到 b\"helloworld\""
   ]
  },
  {
   "cell_type": "markdown",
   "metadata": {},
   "source": [
    "字典的基本操作\n",
    "1）修改字典  向字典添加新内容的方法是增加新的键/值对\n",
    "2）删除字典元素\n",
    "能删单一的元素也能清空字典，清空只需一项操作。\n",
    "显式删除一个字典用del命令\n",
    "3）字典.pop(key)  获得指定key的value，同时字典被修改，指定key的数据被删除\n",
    "4）清空元素：dict.clear()  "
   ]
  },
  {
   "cell_type": "markdown",
   "metadata": {},
   "source": [
    "9.数据类型转换\n",
    "有时候，我们需要对数据内置的类型进行转换，数据类型的转换，一般情况下你只需要将数据类型作为函数名即可。\n",
    "Python 数据类型转换可以分为两种：\n",
    "隐式类型转换 - 自动完成\n",
    "显式类型转换 - 需要使用类型函数来转换\n",
    "1）在隐式类型转换中，Python 会自动将一种数据类型转换为另一种数据类型，不需要我们去干预。\n",
    "对两种不同类型的数据进行运算，较低数据类型（整数）就会转换为较高数据类型（浮点数）以避免数据丢失。\n",
    "2）在显式类型转换中，用户将对象的数据类型转换为所需的数据类型。 我们使用 int()、float()、str() 等预定义函数来执行显式类型转换。"
   ]
  },
  {
   "cell_type": "code",
   "execution_count": 11,
   "metadata": {},
   "outputs": [
    {
     "name": "stdout",
     "output_type": "stream",
     "text": [
      "579\n",
      "<class 'float'>\n"
     ]
    }
   ],
   "source": [
    "num1 = 123\n",
    "num2 = 33.33\n",
    "str1 = '456'\n",
    "\n",
    "result1 = num1 + int(str1)\n",
    "result2 = num1 + num2\n",
    "print(result1)\n",
    "print(type(result2))"
   ]
  },
  {
   "cell_type": "markdown",
   "metadata": {},
   "source": [
    "10.python运算符\n",
    "1）算术运算符\n",
    "+ - * /(除) %(取余) **(乘方) //(取整除 - 往小的方向取整数)\n",
    "2）比较（关系）运算符\n",
    "== != > < >= <=\n",
    "3）赋值运算符\n",
    "+= -= *= /(除) %=(取余) **=(乘方) //=(取整除 - 往小的方向取整数)    例：c+=a 等同于 c=c+a\n",
    ":= 海象运算符，这个运算符的主要目的是在表达式中同时进行赋值和返回赋值的值。Python3.8 版本新增运算符。\n",
    "4）位运算符\n",
    "&(按位与) |(按位或) ^(按位异或) ~(按位取反) <<(运算数的各二进位全部左移若干位，由\"<<\"右边的数指定移动的位数，高位丢弃，低位补0)  >>(把\">>\"左边的运算数的各二进位全部右移若干位，\">>\"右边的数指定移动的位数)\n",
    "5）逻辑运算符\n",
    "and   or   not     结果返回True或者False\n",
    "6）成员运算符\n",
    "in:如果在指定的序列中找到值返回 True，否则返回 False。\n",
    "not in:如果在指定的序列中没有找到值返回 True，否则返回 False。\n",
    "7）身份运算符\n",
    "身份运算符用于比较两个对象的存储单元\n",
    "is:is 是判断两个标识符是不是引用自一个对象\n",
    "not is:是判断两个标识符是不是引用自不同对象\n",
    "\n",
    "is 与 == 区别：\n",
    "is 用于判断两个变量引用对象是否为同一个， == 用于判断引用变量的值是否相等。\n",
    "8）运算符优先级\n",
    "and 拥有更高优先级   if a or b and c    在这句里先执行b and c  \n",
    "优先级依次为 not and or"
   ]
  }
 ],
 "metadata": {
  "kernelspec": {
   "display_name": "Python 3",
   "language": "python",
   "name": "python3"
  },
  "language_info": {
   "codemirror_mode": {
    "name": "ipython",
    "version": 3
   },
   "file_extension": ".py",
   "mimetype": "text/x-python",
   "name": "python",
   "nbconvert_exporter": "python",
   "pygments_lexer": "ipython3",
   "version": "3.10.9"
  }
 },
 "nbformat": 4,
 "nbformat_minor": 2
}
