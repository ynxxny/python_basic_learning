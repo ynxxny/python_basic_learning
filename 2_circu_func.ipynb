{
 "cells": [
  {
   "cell_type": "markdown",
   "metadata": {},
   "source": [
    "三、python循环与函数\n",
    "\n",
    "1.if条件语句\n",
    "\n",
    "if condition_1:\n",
    "    statement_block_1\n",
    "elif condition_2:\n",
    "    statement_block_2\n",
    "else:\n",
    "    statement_block_3\n",
    "\n",
    "注意：\n",
    "1、每个条件后面要使用冒号 :，表示接下来是满足条件后要执行的语句块。\n",
    "2、使用缩进来划分语句块，相同缩进数的语句在一起组成一个语句块。"
   ]
  },
  {
   "cell_type": "code",
   "execution_count": 2,
   "metadata": {},
   "outputs": [
    {
     "name": "stdout",
     "output_type": "stream",
     "text": [
      "这个数比5大\n",
      "这个数是9\n"
     ]
    }
   ],
   "source": [
    "a = input(\"请输入一个0-9之间数\")    # 随便写的一个毫无逻辑的if语句例子\n",
    "a = int(a)\n",
    "if a>5:\n",
    "    print(\"这个数比5大\")\n",
    "elif a>7:\n",
    "    print(\"这个数比7大\")\n",
    "else:\n",
    "    print(\"这个数比8大\")\n",
    "print(\"这个数是9\")"
   ]
  },
  {
   "cell_type": "markdown",
   "metadata": {},
   "source": [
    "if语句的嵌套\n",
    "if 表达式1:\n",
    "    语句\n",
    "    if 表达式2:\n",
    "        语句\n",
    "    elif 表达式3:\n",
    "        语句\n",
    "    else:\n",
    "        语句\n",
    "elif 表达式4:\n",
    "    语句\n",
    "else:\n",
    "    语句\n"
   ]
  },
  {
   "cell_type": "code",
   "execution_count": 3,
   "metadata": {},
   "outputs": [
    {
     "name": "stdout",
     "output_type": "stream",
     "text": [
      "你输入的数字可以整除 3，但不能整除 2\n"
     ]
    }
   ],
   "source": [
    "num=int(input(\"输入一个数字：\"))\n",
    "if num%2==0:\n",
    "    if num%3==0:\n",
    "        print (\"你输入的数字可以整除 2 和 3\")\n",
    "    else:\n",
    "        print (\"你输入的数字可以整除 2，但不能整除 3\")\n",
    "else:\n",
    "    if num%3==0:\n",
    "        print (\"你输入的数字可以整除 3，但不能整除 2\")\n",
    "    else:\n",
    "        print  (\"你输入的数字不能整除 2 和 3\")"
   ]
  },
  {
   "cell_type": "markdown",
   "metadata": {},
   "source": [
    "match...case语句\n",
    "Python 3.10 增加了 match...case 的条件判断，不需要再使用一连串的 if-else 来判断了。\n",
    "match 后的对象会依次与 case 后的内容进行匹配，如果匹配成功，则执行匹配到的表达式，否则直接跳过，_ 可以匹配一切。\n",
    "语法格式如下：\n",
    "match subject:\n",
    "    case <pattern_1>:\n",
    "        <action_1>\n",
    "    case <pattern_2>:\n",
    "        <action_2>\n",
    "    case <pattern_3>:\n",
    "        <action_3>\n",
    "    case _:    #类似于 C 和 Java 中的 default:，当其他 case 都无法匹配时，匹配这条，保证永远会匹配成功。\n",
    "        <action_wildcard>"
   ]
  },
  {
   "cell_type": "code",
   "execution_count": 4,
   "metadata": {},
   "outputs": [
    {
     "name": "stdout",
     "output_type": "stream",
     "text": [
      "Bad request\n"
     ]
    }
   ],
   "source": [
    "def http_error(status):\n",
    "    match status:\n",
    "        case 400:\n",
    "            return \"Bad request\"\n",
    "        case 404:\n",
    "            return \"Not found\"\n",
    "        case 418:\n",
    "            return \"I'm a teapot\"\n",
    "        case _:\n",
    "            return \"Something's wrong with the internet\"\n",
    "\n",
    "mystatus=400\n",
    "print(http_error(400))"
   ]
  },
  {
   "cell_type": "markdown",
   "metadata": {},
   "source": [
    "2.python循环语句\n",
    "while循环\n",
    "1）\n",
    "Python 中 while 语句的一般形式：\n",
    "while 判断条件(condition)：\n",
    "    执行语句(statements)……\n",
    "注意：注意冒号和缩进的问题"
   ]
  },
  {
   "cell_type": "code",
   "execution_count": 7,
   "metadata": {},
   "outputs": [
    {
     "name": "stdout",
     "output_type": "stream",
     "text": [
      "1 到 100 之和为: 5050\n",
      "1到100之和为5050\n"
     ]
    }
   ],
   "source": [
    "# 使用while循环从1加到100\n",
    "i = 1\n",
    "sum = 0\n",
    "n = 100\n",
    "while i<=n:\n",
    "    sum = sum + i\n",
    "    i = i + 1\n",
    "\n",
    "print(\"1 到 %d 之和为: %d\" % (n,sum))\n",
    "print(f\"1到{n}之和为{sum}\")"
   ]
  },
  {
   "cell_type": "markdown",
   "metadata": {},
   "source": [
    "2）使用while进行无限循环\n",
    "我们可以通过设置条件表达式永远不为 false 来实现无限循环，实例如下：\n",
    "var = 1\n",
    "while var == 1 :  # 表达式永远为 true\n",
    "   num = int(input(\"输入一个数字  :\"))\n",
    "   print (\"你输入的数字是: \", num)\n",
    " \n",
    "print (\"Good bye!\")\n",
    "你可以使用 CTRL+C 来退出当前的无限循环！！！\n",
    "无限循环在服务器上客户端的实时请求非常有用。\n",
    "\n",
    "3）while 循环使用 else 语句\n",
    "如果 while 后面的条件语句为 false 时，则执行 else 的语句块。\n",
    "语法格式如下：\n",
    "while <expr>:\n",
    "    <statement(s)>\n",
    "else:\n",
    "    <additional_statement(s)>\n",
    "\n",
    "4）如果你的 while 循环体中只有一条语句，你可以将该语句与 while 写在同一行中\n",
    "flag = 1\n",
    "while (flag): print ('欢迎访问菜鸟教程!')\n",
    "print (\"Good bye!\")"
   ]
  },
  {
   "cell_type": "markdown",
   "metadata": {},
   "source": [
    "for循环\n",
    "\n",
    "1）Python for 循环可以遍历任何可迭代对象，如一个列表或者一个字符串。\n",
    "for循环的一般格式如下：\n",
    "for <variable> in <sequence>:\n",
    "    <statements>\n",
    "else:\n",
    "    <statements>"
   ]
  },
  {
   "cell_type": "code",
   "execution_count": 13,
   "metadata": {},
   "outputs": [
    {
     "name": "stdout",
     "output_type": "stream",
     "text": [
      "Baidu\n",
      "Google\n",
      "Runoob\n",
      "Taobao\n",
      "\n",
      "\n",
      "r\n",
      "u\n",
      "n\n",
      "o\n",
      "o\n",
      "b\n"
     ]
    }
   ],
   "source": [
    "sites = [\"Baidu\", \"Google\",\"Runoob\",\"Taobao\"]\n",
    "for site in sites:\n",
    "    print(site)\n",
    "print(\"\\n\")\n",
    "word = 'runoob'\n",
    "for letter in word:\n",
    "    print(letter)\n",
    "\n",
    "# 整数范围值可以配合 range() 函数使用：\n",
    "#  1 到 5 的所有数字：\n",
    "for number in range(1, 6):\n",
    "    print(number)"
   ]
  },
  {
   "cell_type": "markdown",
   "metadata": {},
   "source": [
    "2）for...else\n",
    "在 Python 中，for...else 语句用于在循环结束后执行一段代码。\n",
    "语法格式如下：\n",
    "for item in iterable:\n",
    "    # 循环主体\n",
    "else:\n",
    "    # 循环结束后执行的代码\n",
    "\n",
    "当循环执行完毕（即遍历完 iterable 中的所有元素）后，会执行 else 子句中的代码，如果在循环过程中遇到了 break 语句，则会中断循环，此时不会执行 else 子句。"
   ]
  },
  {
   "cell_type": "code",
   "execution_count": 17,
   "metadata": {},
   "outputs": [
    {
     "name": "stdout",
     "output_type": "stream",
     "text": [
      "循环数据 Baidu\n",
      "循环数据 Google\n",
      "菜鸟教程!\n",
      "完成循环!\n",
      "0\n",
      "1\n",
      "2\n",
      "3\n",
      "4\n"
     ]
    }
   ],
   "source": [
    "sites = [\"Baidu\", \"Google\",\"Runoob\",\"Taobao\"]\n",
    "for site in sites:\n",
    "    if site == \"Runoob\":\n",
    "        print(\"菜鸟教程!\")\n",
    "        break   #如果在循环过程中遇到了 break 语句，则会中断循环，此时不会执行 else 子句\n",
    "    print(\"循环数据 \" + site)\n",
    "else:\n",
    "    print(\"没有循环数据!\")\n",
    "print(\"完成循环!\")\n",
    "\n",
    "for num in range(5):\n",
    "    print(num)"
   ]
  },
  {
   "cell_type": "markdown",
   "metadata": {},
   "source": [
    "range函数使用\n",
    "range（5）结果为0 1 2 3 4\n",
    "range(1, 5)  结果为1 2 3 4 \n",
    "range(0, 10, 3) 结果为0 3 6 9\n",
    "range(-10, -100, -30) 结果为-10 -40 -70 \n",
    "\n",
    "3）break 和 continue 语句及循环中的 else 子句\n",
    "break 语句可以跳出 for 和 while 的循环体。如果你从 for 或 while 循环中终止，任何对应的循环 else 块将不执行。\n",
    "continue 语句被用来告诉 Python 跳过当前循环块中的剩余语句，然后继续进行下一轮循环。\n",
    "循环语句可以有 else 子句，它在穷尽列表(以for循环)或条件变为 false (以while循环)导致循环终止时被执行，但循环被 break 终止时不执行。\n",
    "\n",
    "4）pass 语句\n",
    "Python pass是空语句，是为了保持程序结构的完整性。\n",
    "pass 不做任何事情，一般用做占位语句\n",
    "while True:\n",
    "...     pass  # 等待键盘中断 (Ctrl+C)"
   ]
  },
  {
   "cell_type": "markdown",
   "metadata": {},
   "source": [
    "3.python推导式\n",
    "\n",
    "Python 推导式是一种独特的数据处理方式，可以从一个数据序列构建另一个新的数据序列的结构体。\n",
    "Python 支持各种数据结构的推导式：\n",
    "1）列表(list)推导式\n",
    "列表推导式格式为：\n",
    "[表达式 for 变量 in 列表] \n",
    "[out_exp_res for out_exp in input_list]\n",
    "或者 \n",
    "[表达式 for 变量 in 列表 if 条件]\n",
    "[out_exp_res for out_exp in input_list if condition]\n",
    "# 遍历列表把其中符合if条件的值放入表达式中"
   ]
  },
  {
   "cell_type": "code",
   "execution_count": 1,
   "metadata": {},
   "outputs": [
    {
     "name": "stdout",
     "output_type": "stream",
     "text": [
      "['ALICE', 'JERRY', 'WENDY', 'SMITH']\n"
     ]
    }
   ],
   "source": [
    "# 列表推导式\n",
    "names = ['Bob','Tom','alice','Jerry','Wendy','Smith']\n",
    "new_names = [name.upper()for name in names if len(name)>3] # 从names中找到长度大于3的字符串存到new_names中\n",
    "print(new_names)\n",
    "\n",
    "multiples = [i for i in range(30) if i % 3 == 0]   # 从0-29中找到能被3整除的数存到multiples中\n",
    "print(multiples)"
   ]
  },
  {
   "cell_type": "markdown",
   "metadata": {},
   "source": [
    "2）字典推导式\n",
    "{ key_expr: value_expr for value in collection }\n",
    "或\n",
    "{ key_expr: value_expr for value in collection if condition }"
   ]
  },
  {
   "cell_type": "code",
   "execution_count": 3,
   "metadata": {},
   "outputs": [
    {
     "name": "stdout",
     "output_type": "stream",
     "text": [
      "{'Google': 6, 'Runoob': 6, 'Taobao': 6}\n",
      "{2: 4, 4: 16, 6: 36}\n"
     ]
    }
   ],
   "source": [
    "listdemo = ['Google','Runoob', 'Taobao']\n",
    "# 将列表中各字符串值为键，各字符串的长度为值，组成键值对\n",
    "newdict = {key:len(key) for key in listdemo}\n",
    "print(newdict)\n",
    "\n",
    "# 以x为键，x的平方为值建立字典\n",
    "dic = {x: x**2 for x in (2, 4, 6)}\n",
    "print(dic)"
   ]
  },
  {
   "cell_type": "markdown",
   "metadata": {},
   "source": [
    "3）集合推导式  （记得集合元素不重复并且是无序的哟）\n",
    "{ expression for item in Sequence }\n",
    "或\n",
    "{ expression for item in Sequence if conditional }"
   ]
  },
  {
   "cell_type": "code",
   "execution_count": null,
   "metadata": {},
   "outputs": [],
   "source": [
    "# 计算1、2、3的平方\n",
    "setnew = {i**2 for i in (1,2,3)}\n",
    "# 判断不是abc以外的\n",
    "a = {x for x in 'abracadabra' if x not in 'abc'}"
   ]
  },
  {
   "cell_type": "markdown",
   "metadata": {},
   "source": [
    "4）元组推导式（生成器表达式）\n",
    "元组推导式可以利用 range 区间、元组、列表、字典和集合等数据类型，快速生成一个满足指定需求的元组。\n",
    "元组推导式基本格式：\n",
    "(expression for item in Sequence )\n",
    "或\n",
    "(expression for item in Sequence if conditional )\n",
    "元组推导式和列表推导式的用法也完全相同，只是元组推导式是用 () 圆括号将各部分括起来，而列表推导式用的是中括号 []，另外元组推导式返回的结果是一个生成器对象。"
   ]
  },
  {
   "cell_type": "code",
   "execution_count": 9,
   "metadata": {},
   "outputs": [
    {
     "name": "stdout",
     "output_type": "stream",
     "text": [
      "[1, 2, 1, 3, 2, 3]\n"
     ]
    }
   ],
   "source": [
    "a = (x for x in range(1,10))\n",
    "\n",
    "\n",
    "# 一个再进一步的小例子\n",
    "list=[0, 1, 2]\n",
    "sum = [i + j for i in list for j in list if i != j]  # i是第一层循环 j是第二层循环  \n",
    "print(sum)"
   ]
  },
  {
   "cell_type": "markdown",
   "metadata": {},
   "source": [
    "4.函数\n",
    "函数是组织好的，可重复使用的，用来实现单一，或相关联功能的代码段。\n",
    "函数能提高应用的模块性，和代码的重复利用率。Python提供了许多内建函数，比如print()。\n",
    "\n",
    "函数简单的规则：\n",
    "函数代码块以 def 关键词开头，后接函数标识符名称和圆括号 ()。\n",
    "任何传入参数和自变量必须放在圆括号中间，圆括号之间可以用于定义参数。\n",
    "函数的第一行语句可以选择性地使用文档字符串—用于存放函数说明。\n",
    "函数内容以冒号 : 起始，并且缩进。\n",
    "return [表达式] 结束函数，选择性地返回一个值给调用方，不带表达式的 return 相当于返回 None。\n",
    "\n",
    "def 函数名（参数列表）:\n",
    "    函数体"
   ]
  },
  {
   "cell_type": "code",
   "execution_count": 1,
   "metadata": {},
   "outputs": [
    {
     "name": "stdout",
     "output_type": "stream",
     "text": [
      "Welcome Sun\n",
      "您的房屋面积是15平方米\n"
     ]
    }
   ],
   "source": [
    "# 一个计算面积的函数\n",
    "def areacacula(height,width):\n",
    "    return height*width\n",
    "\n",
    "def print_welcome(name):\n",
    "    print(\"Welcome\",name)\n",
    "\n",
    "print_welcome(\"Sun\")\n",
    "area = areacacula(3,5)\n",
    "print(f\"您的房屋面积是{area}平方米\")\n"
   ]
  },
  {
   "cell_type": "markdown",
   "metadata": {},
   "source": [
    "1）函数调用\n",
    "定义一个函数：给了函数一个名称，指定了函数里包含的参数，和代码块结构。\n",
    "这个函数的基本结构完成以后，你可以通过另一个函数调用执行，也可以直接从 Python 命令提示符执行。\n",
    "如下实例调用了 printme() 函数：\n",
    "2）在 python 中，类型属于对象，对象有不同类型的区分，变量是没有类型的：\n",
    "a=[1,2,3]\n",
    "a=\"Runoob\"\n",
    "以上代码中，[1,2,3] 是 List 类型，\"Runoob\" 是 String 类型，而变量 a 是没有类型，她仅仅是一个对象的引用（一个指针），可以是指向 List 类型对象，也可以是指向 String 类型对象。"
   ]
  },
  {
   "cell_type": "markdown",
   "metadata": {},
   "source": [
    "可变对象与不可变对象(*****)\n",
    "在 python 中，strings, tuples, 和 numbers 是不可更改的对象，而 list,dict 等则是可以修改的对象。\n",
    "不可变类型：变量赋值 a=5 后再赋值 a=10，这里实际是新生成一个 int 值对象 10，再让 a 指向它，而 5 被丢弃，不是改变 a 的值，相当于新生成了 a。\n",
    "可变类型：变量赋值 la=[1,2,3,4] 后再赋值 la[2]=5 则是将 list la 的第三个元素值更改，本身la没有动，只是其内部的一部分值被修改了。\n",
    "\n",
    "\n",
    "python 函数的参数传递：\n",
    "不可变类型：类似 C++ 的值传递，如整数、字符串、元组。如 fun(a)，传递的只是 a 的值，没有影响 a 对象本身。如果在 fun(a) 内部修改 a 的值，则是新生成一个 a 的对象。\n",
    "可变类型：类似 C++ 的引用传递，如 列表，字典。如 fun(la)，则是将 la 真正的传过去，修改后 fun 外部的 la 也会受影响\n",
    "python 中一切都是对象，严格意义我们不能说值传递还是引用传递，我们应该说传不可变对象和传可变对象。"
   ]
  },
  {
   "cell_type": "code",
   "execution_count": 3,
   "metadata": {},
   "outputs": [
    {
     "name": "stdout",
     "output_type": "stream",
     "text": [
      "2258339889392\n",
      "2258339889392\n",
      "2258339889680\n",
      "2258339889392\n",
      "函数内取值:  [10, 20, 30, [1, 2, 3, 4]]\n",
      "函数外取值:  [10, 20, 30, [1, 2, 3, 4]]\n"
     ]
    }
   ],
   "source": [
    "# 传不可变对象实例\n",
    "def change(a):\n",
    "    print(id(a))   # 指向的是同一个对象\n",
    "    a=10\n",
    "    print(id(a))   # 一个新对象\n",
    " \n",
    "a=1\n",
    "print(id(a))\n",
    "change(a)\n",
    "print(id(a))   # 函数不能改变a对象本身\n",
    "# 在这里当在函数中调用a的时候 实际a为不可变对象 因此a不会被改变 而当给a赋予一个新的值 此时重新生成了一个a对象\n",
    "# 可以看见在调用函数前后，形参和实参指向的是同一个对象（对象 id 相同），在函数内部修改形参后，形参指向的是不同的 id。\n",
    "\n",
    "# 传可变对象实例\n",
    "# 可写函数说明\n",
    "def changeme( mylist ):\n",
    "   \"修改传入的列表\"\n",
    "   mylist.append([1,2,3,4])\n",
    "   print (\"函数内取值: \", mylist)\n",
    "   return\n",
    " \n",
    "# 调用changeme函数\n",
    "mylist = [10,20,30]\n",
    "changeme( mylist ) \n",
    "print (\"函数外取值: \", mylist)   # 函数改变了mylist对象本身"
   ]
  },
  {
   "cell_type": "markdown",
   "metadata": {},
   "source": [
    "3）参数\n",
    "以下是调用函数时可使用的正式参数类型：\n",
    "    必需参数：需要按规定的顺序和质量传递参数\n",
    "\n",
    "    关键字参数:关键字参数和函数调用关系紧密，函数调用使用关键字参数来确定传入的参数值。\n",
    "使用关键字参数允许函数调用时参数的顺序与声明时不一致，因为 Python 解释器能够用参数名匹配参数值。\n",
    "\n",
    "    默认参数:调用函数时，如果没有传递参数，则会使用默认参数。\n",
    "\n",
    "    不定长参数:你可能需要一个函数能处理比当初声明时更多的参数。这些参数叫做不定长参数，和上述 2 种参数不同，声明时不会命名。\n",
    "        加了星号 * 的参数会以元组(tuple)的形式导入，存放所有未命名的变量参数。\n",
    "        加了两个星号 ** 的参数会以字典的形式导入。\n",
    "        如果单独出现星号 *，则星号 * 后的参数必须用关键字传入"
   ]
  },
  {
   "cell_type": "code",
   "execution_count": 5,
   "metadata": {},
   "outputs": [
    {
     "name": "stdout",
     "output_type": "stream",
     "text": [
      "名字:  haha\n",
      "年龄:  50\n",
      "名字:  runoob\n",
      "年龄:  50\n",
      "名字:  happy\n",
      "年龄:  50\n",
      "名字:  happy\n",
      "年龄:  35\n",
      "输出: \n",
      "70\n",
      "(60, 50)\n",
      "输出: \n",
      "10\n",
      "()\n"
     ]
    }
   ],
   "source": [
    "\n",
    "#可写函数说明\n",
    "def printinfo( name, age ):\n",
    "   \"打印任何传入的字符串\"\n",
    "   print (\"名字: \", name)\n",
    "   print (\"年龄: \", age)\n",
    "   return\n",
    " \n",
    "#调用printinfo函数\n",
    "printinfo(\"haha\", 50)   # 必需参数\n",
    "printinfo( age=50, name=\"runoob\" )    #关键字参数\n",
    "\n",
    "\n",
    "def printinfo1( name, age = 35):\n",
    "   \"打印任何传入的字符串\"\n",
    "   print (\"名字: \", name)\n",
    "   print (\"年龄: \", age)\n",
    "   return\n",
    "printinfo1(age = 50, name = \"happy\")   # 当默认参数有传入 按照传入参数执行\n",
    "printinfo1(name = \"happy\")    # 当默认参数无传入 按默认参数执行\n",
    "\n",
    "# 可写函数说明\n",
    "def printinfo2( arg1, *vartuple ):    # 加了星号 * 的参数会以元组(tuple)的形式导入，存放所有未命名的变量参数。\n",
    "   \"打印任何传入的参数\"\n",
    "   print (\"输出: \")\n",
    "   print (arg1)\n",
    "   print (vartuple)\n",
    " \n",
    "# 调用printinfo 函数\n",
    "printinfo2( 70, 60, 50 )\n",
    "printinfo2(10)     # 如果在函数调用时没有指定参数，它就是一个空元组。我们也可以不向函数传递未命名的变量。\n",
    "\n",
    "def info3(a, b, *, c):\n",
    "   return None\n",
    "# 如果单独出现星号 *，则星号 * 后的参数必须用关键字传入\n",
    "info3(1,2,c=3)"
   ]
  },
  {
   "cell_type": "markdown",
   "metadata": {},
   "source": [
    "4）return 语句\n",
    "return [表达式] 语句用于退出函数，选择性地向调用方返回一个表达式。不带参数值的 return 语句返回 None。"
   ]
  },
  {
   "cell_type": "markdown",
   "metadata": {},
   "source": [
    "匿名函数\n",
    "Python 使用 lambda 来创建匿名函数。\n",
    "\n",
    "所谓匿名，意即不再使用 def 语句这样标准的形式定义一个函数。\n",
    "\n",
    "lambda 只是一个表达式，函数体比 def 简单很多。\n",
    "lambda 的主体是一个表达式，而不是一个代码块。仅仅能在 lambda 表达式中封装有限的逻辑进去。\n",
    "lambda 函数拥有自己的命名空间，且不能访问自己参数列表之外或全局命名空间里的参数。\n",
    "虽然 lambda 函数看起来只能写一行，却不等同于 C 或 C++ 的内联函数，内联函数的目的是调用小函数时不占用栈内存从而减少函数调用的开销，提高代码的执行速度。\n",
    "\n",
    "lambda 函数特点：\n",
    "lambda 函数是匿名的，它们没有函数名称，只能通过赋值给变量或作为参数传递给其他函数来使用。\n",
    "lambda 函数通常只包含一行代码，这使得它们适用于编写简单的函数。\n",
    "\n",
    "lambda 语法格式：\n",
    "lambda arguments: expression\n",
    "lambda是 Python 的关键字，用于定义 lambda 函数。\n",
    "arguments 是参数列表，可以包含零个或多个参数，但必须在冒号(:)前指定。\n",
    "expression 是一个表达式，用于计算并返回函数的结果。"
   ]
  },
  {
   "cell_type": "code",
   "execution_count": 7,
   "metadata": {},
   "outputs": [
    {
     "name": "stdout",
     "output_type": "stream",
     "text": [
      "hello\n",
      "30\n",
      "[1, 4, 9, 16, 25]\n"
     ]
    }
   ],
   "source": [
    "# 匿名函数实例\n",
    "x = lambda :\"hello\"\n",
    "print(x())\n",
    "\n",
    "func1 = lambda a, b : a + b\n",
    "print(func1(10, 20))\n",
    "\n",
    "\n",
    "#lambda 函数通常与内置函数如 map()、filter() 和 reduce() 一起使用，以便在集合上执行操作。例如：\n",
    "numbers = [1, 2, 3, 4, 5]\n",
    "squared = list(map(lambda x: x**2, numbers))\n",
    "print(squared)  # 输出: [1, 4, 9, 16, 25]\n",
    "\n",
    "#使用 lambda 函数与 filter() 一起，筛选偶数：\n",
    "numbers = [1, 2, 3, 4, 5, 6, 7, 8]\n",
    "even_numbers = list(filter(lambda x: x % 2 == 0, numbers))    # 判断numbers中的值是否符合lambda函数的条件 符合则筛选出来赋给list\n",
    "print(even_numbers)  # 输出：[2, 4, 6, 8]\n",
    "\n",
    "# 下面是一个使用 reduce() 和 lambda 表达式演示如何计算一个序列的累积乘积：\n",
    "from functools import reduce\n",
    "numbers = [1, 2, 3, 4, 5]\n",
    "# 使用 reduce() 和 lambda 函数计算乘积\n",
    "product = reduce(lambda x, y: x * y, numbers)\n",
    "print(product)  # 输出：120"
   ]
  }
 ],
 "metadata": {
  "kernelspec": {
   "display_name": "Python 3",
   "language": "python",
   "name": "python3"
  },
  "language_info": {
   "codemirror_mode": {
    "name": "ipython",
    "version": 3
   },
   "file_extension": ".py",
   "mimetype": "text/x-python",
   "name": "python",
   "nbconvert_exporter": "python",
   "pygments_lexer": "ipython3",
   "version": "3.10.9"
  }
 },
 "nbformat": 4,
 "nbformat_minor": 2
}
